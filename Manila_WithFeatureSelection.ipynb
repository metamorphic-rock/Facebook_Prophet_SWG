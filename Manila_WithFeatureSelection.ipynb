{
  "nbformat": 4,
  "nbformat_minor": 0,
  "metadata": {
    "colab": {
      "provenance": [],
      "authorship_tag": "ABX9TyPgvOsrV+B0tcXnCx8SCJSR",
      "include_colab_link": true
    },
    "kernelspec": {
      "name": "python3",
      "display_name": "Python 3"
    },
    "language_info": {
      "name": "python"
    }
  },
  "cells": [
    {
      "cell_type": "markdown",
      "metadata": {
        "id": "view-in-github",
        "colab_type": "text"
      },
      "source": [
        "<a href=\"https://colab.research.google.com/github/metamorphic-rock/Time_series_Forecasting_UsingFacebookProphet/blob/main/Manila_WithFeatureSelection.ipynb\" target=\"_parent\"><img src=\"https://colab.research.google.com/assets/colab-badge.svg\" alt=\"Open In Colab\"/></a>"
      ]
    },
    {
      "cell_type": "markdown",
      "source": [
        "# **Model With Feature Selection**"
      ],
      "metadata": {
        "id": "fU6PaUI5e5SU"
      }
    },
    {
      "cell_type": "markdown",
      "source": [
        "## Importing Dependencies"
      ],
      "metadata": {
        "id": "FZMv1MRgs-dj"
      }
    },
    {
      "cell_type": "code",
      "execution_count": null,
      "metadata": {
        "id": "qElFpz3QPeF0"
      },
      "outputs": [],
      "source": [
        "import pandas as pd\n",
        "from prophet import Prophet\n",
        "from prophet.plot import plot_plotly, plot_components_plotly\n",
        "import numpy as np\n",
        "import pandas as pd\n",
        "import seaborn as sns\n",
        "import matplotlib.pyplot as plt\n",
        "from sklearn.metrics import mean_squared_error\n",
        "color_pal = sns.color_palette()\n",
        "plt.style.use('fivethirtyeight')"
      ]
    },
    {
      "cell_type": "code",
      "source": [
        "from google.colab import drive\n",
        "drive.mount('/content/drive')"
      ],
      "metadata": {
        "colab": {
          "base_uri": "https://localhost:8080/"
        },
        "id": "Pt9TyjUKSaOH",
        "outputId": "7d4a4cf7-c7ac-4b35-89c7-279db6b7e290"
      },
      "execution_count": null,
      "outputs": [
        {
          "output_type": "stream",
          "name": "stdout",
          "text": [
            "Drive already mounted at /content/drive; to attempt to forcibly remount, call drive.mount(\"/content/drive\", force_remount=True).\n"
          ]
        }
      ]
    },
    {
      "cell_type": "markdown",
      "source": [
        "creating a dataframe from the swg csv file"
      ],
      "metadata": {
        "id": "0vHSJuuAtGrq"
      }
    },
    {
      "cell_type": "code",
      "source": [
        "df = pd.read_csv('/content/drive/MyDrive/SWG data/Manila Data.csv')\n",
        "df = df.set_index('Year')\n",
        "df.index = pd.to_datetime(df.index)"
      ],
      "metadata": {
        "id": "MTeuZ5piSfNv"
      },
      "execution_count": null,
      "outputs": []
    },
    {
      "cell_type": "code",
      "source": [
        "df"
      ],
      "metadata": {
        "id": "Dyl-JENQjsAt"
      },
      "execution_count": null,
      "outputs": []
    },
    {
      "cell_type": "code",
      "source": [
        "df.info()"
      ],
      "metadata": {
        "id": "AWszkalXDAay"
      },
      "execution_count": null,
      "outputs": []
    },
    {
      "cell_type": "code",
      "source": [
        "df.columns"
      ],
      "metadata": {
        "id": "2H_6lXjjCaa-"
      },
      "execution_count": null,
      "outputs": []
    },
    {
      "cell_type": "markdown",
      "source": [
        "# Correlation between SWG and Socioeconomic Factors"
      ],
      "metadata": {
        "id": "AaW8rbOkr9Vl"
      }
    },
    {
      "cell_type": "code",
      "source": [
        "#get correlations of each features in dataset\n",
        "corrmat = df.corr()\n",
        "top_corr_features = corrmat.index\n",
        "plt.figure(figsize=(20,20))\n",
        "#plot heat map\n",
        "g=sns.heatmap(df[top_corr_features].corr(),annot=True,cmap=\"RdYlGn\")"
      ],
      "metadata": {
        "id": "pI-1kAhcsCeZ"
      },
      "execution_count": null,
      "outputs": []
    },
    {
      "cell_type": "code",
      "source": [
        "corrmat\n"
      ],
      "metadata": {
        "id": "GUTAchQwC9cY"
      },
      "execution_count": null,
      "outputs": []
    },
    {
      "cell_type": "code",
      "source": [
        "corrmat.to_csv('corellation.csv', index=True)\n",
        "from google.colab import files\n",
        "\n",
        "# Download the file\n",
        "files.download('corellation.csv')\n",
        "\n"
      ],
      "metadata": {
        "id": "3niDQkiaDXe8"
      },
      "execution_count": null,
      "outputs": []
    },
    {
      "cell_type": "markdown",
      "source": [
        "# Feature Selection\n"
      ],
      "metadata": {
        "id": "5lzsUxwWuRVp"
      }
    },
    {
      "cell_type": "code",
      "source": [
        "df =df[['Year index', 'SWG ', 'Population', 'Death rate', 'Sex ratio','Average price of Gasoline', 'Average price of Diesel', 'Number of Marriages','Labor Force Participation','Average Age','Average Relative Humidity','Number of tropical cyclones ']]"
      ],
      "metadata": {
        "id": "nUQtifhDrcWR"
      },
      "execution_count": null,
      "outputs": []
    },
    {
      "cell_type": "code",
      "source": [
        "df.columns"
      ],
      "metadata": {
        "id": "0cSdJZl9tpnJ"
      },
      "execution_count": null,
      "outputs": []
    },
    {
      "cell_type": "code",
      "source": [
        "df = df.rename(columns={'Year index': 'ds', 'SWG ': 'y'})"
      ],
      "metadata": {
        "id": "uIDk-oIwBUIe"
      },
      "execution_count": null,
      "outputs": []
    },
    {
      "cell_type": "code",
      "source": [
        "df['ds']=pd.to_datetime(df['ds']) #converting the 'ds' column into datetime format\n"
      ],
      "metadata": {
        "id": "E3NGlfsBDJUk"
      },
      "execution_count": null,
      "outputs": []
    },
    {
      "cell_type": "code",
      "source": [
        "df.plot(x='ds',y='y',figsize=(18,6))\n",
        "plt.show()"
      ],
      "metadata": {
        "id": "AHnwdcJ8Ssjx"
      },
      "execution_count": null,
      "outputs": []
    },
    {
      "cell_type": "markdown",
      "source": [
        "## Splitting the data"
      ],
      "metadata": {
        "id": "yOnCq6j5TOsV"
      }
    },
    {
      "cell_type": "code",
      "source": [
        "train = df.loc[df.index < '2020'] #All Data before 2020 will be used as the train dataset\n",
        "test = df.loc[df.index >= '2020']\n"
      ],
      "metadata": {
        "id": "6CjINiwBTMWn"
      },
      "execution_count": null,
      "outputs": []
    },
    {
      "cell_type": "code",
      "source": [
        "train"
      ],
      "metadata": {
        "id": "Vp6qhj5P_r1m"
      },
      "execution_count": null,
      "outputs": []
    },
    {
      "cell_type": "code",
      "source": [
        "test"
      ],
      "metadata": {
        "id": "FcVxdPNv_upG"
      },
      "execution_count": null,
      "outputs": []
    },
    {
      "cell_type": "markdown",
      "source": [
        "## Creating and training the model"
      ],
      "metadata": {
        "id": "aO4nOeLG-Ioy"
      }
    },
    {
      "cell_type": "code",
      "source": [
        "\n",
        "ProphetModel=Prophet()\n",
        "def AddFeatures(df):\n",
        "  for i in df.columns:\n",
        "    ProphetModel.add_regressor(i)\n",
        "  return ProphetModel"
      ],
      "metadata": {
        "id": "O28d3Uyd-Hym"
      },
      "execution_count": null,
      "outputs": []
    },
    {
      "cell_type": "code",
      "source": [
        "ProphetModel.fit(train)"
      ],
      "metadata": {
        "id": "qdYnRFcP_ZDM"
      },
      "execution_count": null,
      "outputs": []
    },
    {
      "cell_type": "markdown",
      "source": [
        "## Forecasting MSWG"
      ],
      "metadata": {
        "id": "s6pWIL7nsiNl"
      }
    },
    {
      "cell_type": "code",
      "source": [
        "future=ProphetModel.make_future_dataframe(periods=7, freq = 'Y') #Forecasting 7 years of MSWG from 2019"
      ],
      "metadata": {
        "id": "mNQ8pHf-Fg9O"
      },
      "execution_count": null,
      "outputs": []
    },
    {
      "cell_type": "code",
      "source": [
        "\n",
        "future.head(5)"
      ],
      "metadata": {
        "id": "Ezo9zejlF-XD"
      },
      "execution_count": null,
      "outputs": []
    },
    {
      "cell_type": "code",
      "source": [
        "forecast=ProphetModel.predict(future)"
      ],
      "metadata": {
        "id": "XZ4BGQS2HEP5"
      },
      "execution_count": null,
      "outputs": []
    },
    {
      "cell_type": "code",
      "source": [
        "forecast.tail()"
      ],
      "metadata": {
        "id": "B5L47vnbHN72"
      },
      "execution_count": null,
      "outputs": []
    },
    {
      "cell_type": "code",
      "source": [
        "forecast[['ds','yhat','yhat_lower','yhat_upper']]"
      ],
      "metadata": {
        "id": "dD-RseuOH6UB"
      },
      "execution_count": null,
      "outputs": []
    },
    {
      "cell_type": "code",
      "source": [
        "ProphetModel.plot(forecast)"
      ],
      "metadata": {
        "id": "-6vXoKRSwFAE"
      },
      "execution_count": null,
      "outputs": []
    },
    {
      "cell_type": "code",
      "source": [
        "plot_plotly(ProphetModel,forecast)"
      ],
      "metadata": {
        "id": "09E6e5RDpZ08"
      },
      "execution_count": null,
      "outputs": []
    },
    {
      "cell_type": "code",
      "source": [
        "plot_components_plotly(ProphetModel, forecast)"
      ],
      "metadata": {
        "id": "dzCf03USp-V7"
      },
      "execution_count": null,
      "outputs": []
    },
    {
      "cell_type": "markdown",
      "source": [
        "## Evaluating the model"
      ],
      "metadata": {
        "id": "yVPOws2sqoup"
      }
    },
    {
      "cell_type": "code",
      "source": [
        "Predictions=forecast.iloc[-2:]['yhat']"
      ],
      "metadata": {
        "id": "ohKSbHC_qrqD"
      },
      "execution_count": null,
      "outputs": []
    },
    {
      "cell_type": "code",
      "source": [
        "from statsmodels.tools.eval_measures import rmse,rmspe,meanabs\n",
        "print(\"Mean Absolute Error between actual and  predicted values: \",meanabs(Predictions,test['y']))\n",
        "print(\"Root Mean Squared Error between actual and  predicted values: \",rmse(Predictions,test['y']))\n",
        "print(\"Root Mean Squared Percentage Error between actual and  predicted values: \",rmspe(Predictions,test['y']))\n",
        "print(\"Mean Value of Test Dataset:\", test['y'].mean())"
      ],
      "metadata": {
        "id": "pfaUf2DsrEyD"
      },
      "execution_count": null,
      "outputs": []
    },
    {
      "cell_type": "code",
      "source": [
        "from sklearn.metrics import mean_absolute_percentage_error\n",
        "print(\"Mean Absolute Percentage Error between actual and  predicted values: \",mean_absolute_percentage_error(test['y'],Predictions))"
      ],
      "metadata": {
        "id": "c6epvB-FCNks"
      },
      "execution_count": null,
      "outputs": []
    },
    {
      "cell_type": "markdown",
      "source": [
        "More Plots"
      ],
      "metadata": {
        "id": "3A1keAfNwoBh"
      }
    },
    {
      "cell_type": "code",
      "source": [
        "\n",
        "forecast_data_orig = forecast # make sure we save the original forecast data\n",
        "forecast_data_orig['yhat'] = np.exp(forecast_data_orig['yhat'])\n",
        "forecast_data_orig['yhat_lower'] = np.exp(forecast_data_orig['yhat_lower'])\n",
        "forecast_data_orig['yhat_upper'] = np.exp(forecast_data_orig['yhat_upper'])\n",
        "\n",
        "ProphetModel.plot(forecast_data_orig)"
      ],
      "metadata": {
        "id": "f72hOs08wpxE"
      },
      "execution_count": null,
      "outputs": []
    }
  ]
}