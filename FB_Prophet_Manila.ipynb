{
  "nbformat": 4,
  "nbformat_minor": 0,
  "metadata": {
    "colab": {
      "provenance": [],
      "authorship_tag": "ABX9TyPZW0rKL7ewuSbSd+XwqNFH",
      "include_colab_link": true
    },
    "kernelspec": {
      "name": "python3",
      "display_name": "Python 3"
    },
    "language_info": {
      "name": "python"
    }
  },
  "cells": [
    {
      "cell_type": "markdown",
      "metadata": {
        "id": "view-in-github",
        "colab_type": "text"
      },
      "source": [
        "<a href=\"https://colab.research.google.com/github/metamorphic-rock/Time_series_Forecasting_UsingFacebookProphet/blob/main/FB_Prophet_Manila.ipynb\" target=\"_parent\"><img src=\"https://colab.research.google.com/assets/colab-badge.svg\" alt=\"Open In Colab\"/></a>"
      ]
    },
    {
      "cell_type": "markdown",
      "source": [
        "# **Model Without Feature Selection**"
      ],
      "metadata": {
        "id": "GMrms0LofB3d"
      }
    },
    {
      "cell_type": "markdown",
      "source": [
        "## Importing Dependencies"
      ],
      "metadata": {
        "id": "FZMv1MRgs-dj"
      }
    },
    {
      "cell_type": "code",
      "execution_count": null,
      "metadata": {
        "id": "qElFpz3QPeF0"
      },
      "outputs": [],
      "source": [
        "import pandas as pd\n",
        "from prophet import Prophet\n",
        "from prophet.plot import plot_plotly, plot_components_plotly\n",
        "import numpy as np\n",
        "import pandas as pd\n",
        "import seaborn as sns\n",
        "import matplotlib.pyplot as plt\n",
        "from sklearn.metrics import mean_squared_error\n",
        "color_pal = sns.color_palette()\n",
        "plt.style.use('fivethirtyeight')"
      ]
    },
    {
      "cell_type": "code",
      "source": [
        "from google.colab import drive\n",
        "drive.mount('/content/drive')"
      ],
      "metadata": {
        "id": "Pt9TyjUKSaOH"
      },
      "execution_count": null,
      "outputs": []
    },
    {
      "cell_type": "markdown",
      "source": [
        "creating a dataframe from the swg csv file"
      ],
      "metadata": {
        "id": "0vHSJuuAtGrq"
      }
    },
    {
      "cell_type": "code",
      "source": [
        "df = pd.read_csv('/content/drive/MyDrive/SWG data/Manila Data.csv')\n",
        "df = df.set_index('Year')\n",
        "df.index = pd.to_datetime(df.index)"
      ],
      "metadata": {
        "id": "MTeuZ5piSfNv"
      },
      "execution_count": null,
      "outputs": []
    },
    {
      "cell_type": "code",
      "source": [
        "df"
      ],
      "metadata": {
        "id": "Dyl-JENQjsAt"
      },
      "execution_count": null,
      "outputs": []
    },
    {
      "cell_type": "code",
      "source": [
        "df.info()"
      ],
      "metadata": {
        "id": "AWszkalXDAay"
      },
      "execution_count": null,
      "outputs": []
    },
    {
      "cell_type": "code",
      "source": [
        "df.columns"
      ],
      "metadata": {
        "id": "2H_6lXjjCaa-"
      },
      "execution_count": null,
      "outputs": []
    },
    {
      "cell_type": "code",
      "source": [
        "df = df.rename(columns={'Year index': 'ds', 'SWG ': 'y'})"
      ],
      "metadata": {
        "id": "uIDk-oIwBUIe"
      },
      "execution_count": null,
      "outputs": []
    },
    {
      "cell_type": "code",
      "source": [
        "df['ds']=pd.to_datetime(df['ds']) #converting the 'ds' column into datetime format\n"
      ],
      "metadata": {
        "id": "E3NGlfsBDJUk"
      },
      "execution_count": null,
      "outputs": []
    },
    {
      "cell_type": "code",
      "source": [
        "df.plot(x='ds',y='y',figsize=(18,6))\n",
        "plt.show()"
      ],
      "metadata": {
        "id": "AHnwdcJ8Ssjx"
      },
      "execution_count": null,
      "outputs": []
    },
    {
      "cell_type": "markdown",
      "source": [
        "## Splitting the data"
      ],
      "metadata": {
        "id": "yOnCq6j5TOsV"
      }
    },
    {
      "cell_type": "code",
      "source": [
        "train = df.loc[df.index < '2020'] #All Data before 2020 will be used as the train dataset\n",
        "test = df.loc[df.index >= '2020']\n"
      ],
      "metadata": {
        "id": "6CjINiwBTMWn"
      },
      "execution_count": null,
      "outputs": []
    },
    {
      "cell_type": "code",
      "source": [
        "train"
      ],
      "metadata": {
        "id": "Vp6qhj5P_r1m"
      },
      "execution_count": null,
      "outputs": []
    },
    {
      "cell_type": "code",
      "source": [
        "test"
      ],
      "metadata": {
        "id": "FcVxdPNv_upG",
        "outputId": "24567cc9-44d3-409c-bffd-05b25f74f802",
        "colab": {
          "base_uri": "https://localhost:8080/",
          "height": 323
        }
      },
      "execution_count": null,
      "outputs": [
        {
          "output_type": "execute_result",
          "data": {
            "text/plain": [
              "                   ds           y  Population  Birth rate  Death rate  \\\n",
              "Year                                                                    \n",
              "2020-12-31 2020-12-31  2913041.58   1846513.0       48208       12808   \n",
              "2021-12-31 2021-12-31  2963183.15   1853249.0       22454       15718   \n",
              "\n",
              "            Number of Marriages  Population Density  Average Age  Sex ratio  \\\n",
              "Year                                                                          \n",
              "2020-12-31                 6070            47590.54        29.39      49.67   \n",
              "2021-12-31                 7899            47764.15        29.39      49.67   \n",
              "\n",
              "                     GDP  ...  Labor Force Participation  \\\n",
              "Year                      ...                              \n",
              "2020-12-31  5.797058e+09  ...                       59.5   \n",
              "2021-12-31  6.157785e+09  ...                       59.5   \n",
              "\n",
              "            Underemployment Rate  Average rainfall  Maximum temperature  \\\n",
              "Year                                                                      \n",
              "2020-12-31                   7.4            146.06                 34.3   \n",
              "2021-12-31                   7.4            176.15                 35.2   \n",
              "\n",
              "            Minimum temperature  Average Relative Humidity  \\\n",
              "Year                                                         \n",
              "2020-12-31                 23.6                      70.25   \n",
              "2021-12-31                 23.8                      71.91   \n",
              "\n",
              "            Number of tropical cyclones   Average price of Gasoline  \\\n",
              "Year                                                                  \n",
              "2020-12-31                            22                      48.25   \n",
              "2021-12-31                            15                      54.34   \n",
              "\n",
              "            Average price of Diesel  Average price of Kerosene  \n",
              "Year                                                            \n",
              "2020-12-31                    35.12                      37.59  \n",
              "2021-12-31                    42.89                      47.60  \n",
              "\n",
              "[2 rows x 23 columns]"
            ],
            "text/html": [
              "\n",
              "  <div id=\"df-f7fe765c-2462-4b1a-9c46-465e9080657e\">\n",
              "    <div class=\"colab-df-container\">\n",
              "      <div>\n",
              "<style scoped>\n",
              "    .dataframe tbody tr th:only-of-type {\n",
              "        vertical-align: middle;\n",
              "    }\n",
              "\n",
              "    .dataframe tbody tr th {\n",
              "        vertical-align: top;\n",
              "    }\n",
              "\n",
              "    .dataframe thead th {\n",
              "        text-align: right;\n",
              "    }\n",
              "</style>\n",
              "<table border=\"1\" class=\"dataframe\">\n",
              "  <thead>\n",
              "    <tr style=\"text-align: right;\">\n",
              "      <th></th>\n",
              "      <th>ds</th>\n",
              "      <th>y</th>\n",
              "      <th>Population</th>\n",
              "      <th>Birth rate</th>\n",
              "      <th>Death rate</th>\n",
              "      <th>Number of Marriages</th>\n",
              "      <th>Population Density</th>\n",
              "      <th>Average Age</th>\n",
              "      <th>Sex ratio</th>\n",
              "      <th>GDP</th>\n",
              "      <th>...</th>\n",
              "      <th>Labor Force Participation</th>\n",
              "      <th>Underemployment Rate</th>\n",
              "      <th>Average rainfall</th>\n",
              "      <th>Maximum temperature</th>\n",
              "      <th>Minimum temperature</th>\n",
              "      <th>Average Relative Humidity</th>\n",
              "      <th>Number of tropical cyclones</th>\n",
              "      <th>Average price of Gasoline</th>\n",
              "      <th>Average price of Diesel</th>\n",
              "      <th>Average price of Kerosene</th>\n",
              "    </tr>\n",
              "    <tr>\n",
              "      <th>Year</th>\n",
              "      <th></th>\n",
              "      <th></th>\n",
              "      <th></th>\n",
              "      <th></th>\n",
              "      <th></th>\n",
              "      <th></th>\n",
              "      <th></th>\n",
              "      <th></th>\n",
              "      <th></th>\n",
              "      <th></th>\n",
              "      <th></th>\n",
              "      <th></th>\n",
              "      <th></th>\n",
              "      <th></th>\n",
              "      <th></th>\n",
              "      <th></th>\n",
              "      <th></th>\n",
              "      <th></th>\n",
              "      <th></th>\n",
              "      <th></th>\n",
              "      <th></th>\n",
              "    </tr>\n",
              "  </thead>\n",
              "  <tbody>\n",
              "    <tr>\n",
              "      <th>2020-12-31</th>\n",
              "      <td>2020-12-31</td>\n",
              "      <td>2913041.58</td>\n",
              "      <td>1846513.0</td>\n",
              "      <td>48208</td>\n",
              "      <td>12808</td>\n",
              "      <td>6070</td>\n",
              "      <td>47590.54</td>\n",
              "      <td>29.39</td>\n",
              "      <td>49.67</td>\n",
              "      <td>5.797058e+09</td>\n",
              "      <td>...</td>\n",
              "      <td>59.5</td>\n",
              "      <td>7.4</td>\n",
              "      <td>146.06</td>\n",
              "      <td>34.3</td>\n",
              "      <td>23.6</td>\n",
              "      <td>70.25</td>\n",
              "      <td>22</td>\n",
              "      <td>48.25</td>\n",
              "      <td>35.12</td>\n",
              "      <td>37.59</td>\n",
              "    </tr>\n",
              "    <tr>\n",
              "      <th>2021-12-31</th>\n",
              "      <td>2021-12-31</td>\n",
              "      <td>2963183.15</td>\n",
              "      <td>1853249.0</td>\n",
              "      <td>22454</td>\n",
              "      <td>15718</td>\n",
              "      <td>7899</td>\n",
              "      <td>47764.15</td>\n",
              "      <td>29.39</td>\n",
              "      <td>49.67</td>\n",
              "      <td>6.157785e+09</td>\n",
              "      <td>...</td>\n",
              "      <td>59.5</td>\n",
              "      <td>7.4</td>\n",
              "      <td>176.15</td>\n",
              "      <td>35.2</td>\n",
              "      <td>23.8</td>\n",
              "      <td>71.91</td>\n",
              "      <td>15</td>\n",
              "      <td>54.34</td>\n",
              "      <td>42.89</td>\n",
              "      <td>47.60</td>\n",
              "    </tr>\n",
              "  </tbody>\n",
              "</table>\n",
              "<p>2 rows × 23 columns</p>\n",
              "</div>\n",
              "      <button class=\"colab-df-convert\" onclick=\"convertToInteractive('df-f7fe765c-2462-4b1a-9c46-465e9080657e')\"\n",
              "              title=\"Convert this dataframe to an interactive table.\"\n",
              "              style=\"display:none;\">\n",
              "        \n",
              "  <svg xmlns=\"http://www.w3.org/2000/svg\" height=\"24px\"viewBox=\"0 0 24 24\"\n",
              "       width=\"24px\">\n",
              "    <path d=\"M0 0h24v24H0V0z\" fill=\"none\"/>\n",
              "    <path d=\"M18.56 5.44l.94 2.06.94-2.06 2.06-.94-2.06-.94-.94-2.06-.94 2.06-2.06.94zm-11 1L8.5 8.5l.94-2.06 2.06-.94-2.06-.94L8.5 2.5l-.94 2.06-2.06.94zm10 10l.94 2.06.94-2.06 2.06-.94-2.06-.94-.94-2.06-.94 2.06-2.06.94z\"/><path d=\"M17.41 7.96l-1.37-1.37c-.4-.4-.92-.59-1.43-.59-.52 0-1.04.2-1.43.59L10.3 9.45l-7.72 7.72c-.78.78-.78 2.05 0 2.83L4 21.41c.39.39.9.59 1.41.59.51 0 1.02-.2 1.41-.59l7.78-7.78 2.81-2.81c.8-.78.8-2.07 0-2.86zM5.41 20L4 18.59l7.72-7.72 1.47 1.35L5.41 20z\"/>\n",
              "  </svg>\n",
              "      </button>\n",
              "      \n",
              "  <style>\n",
              "    .colab-df-container {\n",
              "      display:flex;\n",
              "      flex-wrap:wrap;\n",
              "      gap: 12px;\n",
              "    }\n",
              "\n",
              "    .colab-df-convert {\n",
              "      background-color: #E8F0FE;\n",
              "      border: none;\n",
              "      border-radius: 50%;\n",
              "      cursor: pointer;\n",
              "      display: none;\n",
              "      fill: #1967D2;\n",
              "      height: 32px;\n",
              "      padding: 0 0 0 0;\n",
              "      width: 32px;\n",
              "    }\n",
              "\n",
              "    .colab-df-convert:hover {\n",
              "      background-color: #E2EBFA;\n",
              "      box-shadow: 0px 1px 2px rgba(60, 64, 67, 0.3), 0px 1px 3px 1px rgba(60, 64, 67, 0.15);\n",
              "      fill: #174EA6;\n",
              "    }\n",
              "\n",
              "    [theme=dark] .colab-df-convert {\n",
              "      background-color: #3B4455;\n",
              "      fill: #D2E3FC;\n",
              "    }\n",
              "\n",
              "    [theme=dark] .colab-df-convert:hover {\n",
              "      background-color: #434B5C;\n",
              "      box-shadow: 0px 1px 3px 1px rgba(0, 0, 0, 0.15);\n",
              "      filter: drop-shadow(0px 1px 2px rgba(0, 0, 0, 0.3));\n",
              "      fill: #FFFFFF;\n",
              "    }\n",
              "  </style>\n",
              "\n",
              "      <script>\n",
              "        const buttonEl =\n",
              "          document.querySelector('#df-f7fe765c-2462-4b1a-9c46-465e9080657e button.colab-df-convert');\n",
              "        buttonEl.style.display =\n",
              "          google.colab.kernel.accessAllowed ? 'block' : 'none';\n",
              "\n",
              "        async function convertToInteractive(key) {\n",
              "          const element = document.querySelector('#df-f7fe765c-2462-4b1a-9c46-465e9080657e');\n",
              "          const dataTable =\n",
              "            await google.colab.kernel.invokeFunction('convertToInteractive',\n",
              "                                                     [key], {});\n",
              "          if (!dataTable) return;\n",
              "\n",
              "          const docLinkHtml = 'Like what you see? Visit the ' +\n",
              "            '<a target=\"_blank\" href=https://colab.research.google.com/notebooks/data_table.ipynb>data table notebook</a>'\n",
              "            + ' to learn more about interactive tables.';\n",
              "          element.innerHTML = '';\n",
              "          dataTable['output_type'] = 'display_data';\n",
              "          await google.colab.output.renderOutput(dataTable, element);\n",
              "          const docLink = document.createElement('div');\n",
              "          docLink.innerHTML = docLinkHtml;\n",
              "          element.appendChild(docLink);\n",
              "        }\n",
              "      </script>\n",
              "    </div>\n",
              "  </div>\n",
              "  "
            ]
          },
          "metadata": {},
          "execution_count": 15
        }
      ]
    },
    {
      "cell_type": "markdown",
      "source": [
        "## Creating and training the model"
      ],
      "metadata": {
        "id": "aO4nOeLG-Ioy"
      }
    },
    {
      "cell_type": "code",
      "source": [
        "\n",
        "ProphetModel=Prophet()\n",
        "def AddFeatures(df):\n",
        "  for i in df.columns:\n",
        "    ProphetModel.add_regressor(i)\n",
        "  return ProphetModel"
      ],
      "metadata": {
        "id": "O28d3Uyd-Hym"
      },
      "execution_count": null,
      "outputs": []
    },
    {
      "cell_type": "code",
      "source": [
        "ProphetModel.fit(train)"
      ],
      "metadata": {
        "id": "qdYnRFcP_ZDM"
      },
      "execution_count": null,
      "outputs": []
    },
    {
      "cell_type": "markdown",
      "source": [
        "## Forecasting MSWG"
      ],
      "metadata": {
        "id": "s6pWIL7nsiNl"
      }
    },
    {
      "cell_type": "code",
      "source": [
        "future=ProphetModel.make_future_dataframe(periods=7, freq = 'Y') #Forecasting 7 years of MSWG from 2019"
      ],
      "metadata": {
        "id": "mNQ8pHf-Fg9O"
      },
      "execution_count": null,
      "outputs": []
    },
    {
      "cell_type": "code",
      "source": [
        "\n",
        "future.head(5)"
      ],
      "metadata": {
        "id": "Ezo9zejlF-XD"
      },
      "execution_count": null,
      "outputs": []
    },
    {
      "cell_type": "code",
      "source": [
        "forecast=ProphetModel.predict(future)"
      ],
      "metadata": {
        "id": "XZ4BGQS2HEP5"
      },
      "execution_count": null,
      "outputs": []
    },
    {
      "cell_type": "code",
      "source": [
        "forecast.tail()"
      ],
      "metadata": {
        "id": "B5L47vnbHN72"
      },
      "execution_count": null,
      "outputs": []
    },
    {
      "cell_type": "code",
      "source": [
        "forecast[['ds','yhat','yhat_lower','yhat_upper']]"
      ],
      "metadata": {
        "id": "dD-RseuOH6UB"
      },
      "execution_count": null,
      "outputs": []
    },
    {
      "cell_type": "code",
      "source": [
        "ProphetModel.plot(forecast)"
      ],
      "metadata": {
        "id": "-6vXoKRSwFAE"
      },
      "execution_count": null,
      "outputs": []
    },
    {
      "cell_type": "code",
      "source": [
        "plot_plotly(ProphetModel,forecast)"
      ],
      "metadata": {
        "id": "09E6e5RDpZ08"
      },
      "execution_count": null,
      "outputs": []
    },
    {
      "cell_type": "code",
      "source": [
        "plot_components_plotly(ProphetModel, forecast)"
      ],
      "metadata": {
        "id": "dzCf03USp-V7"
      },
      "execution_count": null,
      "outputs": []
    },
    {
      "cell_type": "markdown",
      "source": [
        "## Evaluating the model"
      ],
      "metadata": {
        "id": "yVPOws2sqoup"
      }
    },
    {
      "cell_type": "code",
      "source": [
        "Predictions=forecast.iloc[-2:]['yhat']"
      ],
      "metadata": {
        "id": "ohKSbHC_qrqD"
      },
      "execution_count": null,
      "outputs": []
    },
    {
      "cell_type": "code",
      "source": [
        "from statsmodels.tools.eval_measures import rmse,rmspe,meanabs\n",
        "print(\"Mean Absolute Error between actual and  predicted values: \",meanabs(Predictions,test['y']))\n",
        "print(\"Root Mean Squared Error between actual and  predicted values: \",rmse(Predictions,test['y']))\n",
        "print(\"Root Mean Squared Percentage Error between actual and  predicted values: \",rmspe(Predictions,test['y']))\n",
        "print(\"Mean Value of Test Dataset:\", test['y'].mean())"
      ],
      "metadata": {
        "id": "pfaUf2DsrEyD"
      },
      "execution_count": null,
      "outputs": []
    },
    {
      "cell_type": "code",
      "source": [
        "from sklearn.metrics import mean_absolute_percentage_error\n",
        "print(\"Mean Absolute Percentage Error between actual and  predicted values: \",mean_absolute_percentage_error(test['y'],Predictions))"
      ],
      "metadata": {
        "id": "c6epvB-FCNks"
      },
      "execution_count": null,
      "outputs": []
    },
    {
      "cell_type": "markdown",
      "source": [
        "More Plots"
      ],
      "metadata": {
        "id": "3A1keAfNwoBh"
      }
    },
    {
      "cell_type": "code",
      "source": [
        "\n",
        "forecast_data_orig = forecast # make sure we save the original forecast data\n",
        "forecast_data_orig['yhat'] = np.exp(forecast_data_orig['yhat'])\n",
        "forecast_data_orig['yhat_lower'] = np.exp(forecast_data_orig['yhat_lower'])\n",
        "forecast_data_orig['yhat_upper'] = np.exp(forecast_data_orig['yhat_upper'])\n",
        "\n",
        "ProphetModel.plot(forecast_data_orig)"
      ],
      "metadata": {
        "id": "f72hOs08wpxE"
      },
      "execution_count": null,
      "outputs": []
    }
  ]
}